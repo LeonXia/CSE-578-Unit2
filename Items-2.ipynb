{
 "cells": [
  {
   "cell_type": "code",
   "execution_count": 13,
   "metadata": {},
   "outputs": [
    {
     "data": {
      "image/png": "[encoded data removed]",
      "text/plain": [
       "<Figure size 432x288 with 1 Axes>"
      ]
     },
     "metadata": {},
     "output_type": "display_data"
    }
   ],
   "source": [
    "import sqlite3\n",
    "import pandas as pd\n",
    "import matplotlib.pyplot as plt\n",
    "\n",
    "db_filename = 'dinofunworld-1.db'\n",
    "\n",
    "conn =sqlite3.connect(db_filename)\n",
    "c = conn.cursor()\n",
    "\n",
    "#################################################### 柱状图\n",
    "c.execute(\"select attraction, count(*) as visit_number from checkin where attraction in (select attractionID from attraction where Category like '%Food%') group by attraction\")\n",
    "records = c.fetchall()\n",
    "\n",
    "food = pd.DataFrame.from_records(records, columns=['attraction','visit_number'])\n",
    "##print(sugarFrame)\n",
    "labels = food['attraction']\n",
    "##print(labels)\n",
    "\n",
    "plt.bar(range(len(food['visit_number'])), food['visit_number'], tick_label=labels)\n",
    "##plt.xticks(food['attraction'])\n",
    "##plt.xticks(labels)\n",
    "plt.show()\n",
    "\n"
   ]
  },
  {
   "cell_type": "code",
   "execution_count": null,
   "metadata": {},
   "outputs": [],
   "source": []
  }
 ],
 "metadata": {
  "kernelspec": {
   "display_name": "Python 3",
   "language": "python",
   "name": "python3"
  },
  "language_info": {
   "codemirror_mode": {
    "name": "ipython",
    "version": 3
   },
   "file_extension": ".py",
   "mimetype": "text/x-python",
   "name": "python",
   "nbconvert_exporter": "python",
   "pygments_lexer": "ipython3",
   "version": "3.6.5"
  }
 },
 "nbformat": 4,
 "nbformat_minor": 2
}
