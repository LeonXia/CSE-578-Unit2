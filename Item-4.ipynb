{
 "cells": [
  {
   "cell_type": "code",
   "execution_count": 6,
   "metadata": {},
   "outputs": [
    {
     "data": {
      "image/png": "[encoded data removed]",
      "text/plain": [
       "<Figure size 432x288 with 1 Axes>"
      ]
     },
     "metadata": {},
     "output_type": "display_data"
    }
   ],
   "source": [
    "import sqlite3\n",
    "import pandas as pd\n",
    "import matplotlib.pyplot as plt\n",
    "\n",
    "db_filename = 'dinofunworld-1.db'\n",
    "\n",
    "conn =sqlite3.connect(db_filename)\n",
    "c = conn.cursor()\n",
    "\n",
    "#################################################### 箱式图\n",
    "sql = \"select attraction, count(*) as visit_number from checkin where type = \\'actual\\' and attraction in (select attractionID from attraction where Category like \\'%Kiddie Rides%\\' ) group by attraction \"\n",
    "c.execute(sql)\n",
    "records = c.fetchall()\n",
    "\n",
    "kiddieRides = pd.DataFrame.from_records(records, columns=['attraction','visit_number'])\n",
    "plt.boxplot(kiddieRides['visit_number'])\n",
    "plt.show()\n"
   ]
  }
 ],
 "metadata": {
  "kernelspec": {
   "display_name": "Python 3",
   "language": "python",
   "name": "python3"
  },
  "language_info": {
   "codemirror_mode": {
    "name": "ipython",
    "version": 3
   },
   "file_extension": ".py",
   "mimetype": "text/x-python",
   "name": "python",
   "nbconvert_exporter": "python",
   "pygments_lexer": "ipython3",
   "version": "3.6.5"
  }
 },
 "nbformat": 4,
 "nbformat_minor": 2
}
